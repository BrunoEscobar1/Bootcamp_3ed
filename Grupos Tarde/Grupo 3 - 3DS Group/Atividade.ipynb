{
 "cells": [
  {
   "cell_type": "markdown",
   "id": "6f3f0d18-c92b-4abb-95e9-57ec27871f57",
   "metadata": {},
   "source": [
    "## Projeto Data Science - Grupo 3DS"
   ]
  },
  {
   "cell_type": "markdown",
   "id": "fd28233c-0667-4720-ab57-3eb36803417b",
   "metadata": {},
   "source": [
    "Foram baixados primeiramente os arquivos de dados telemétricos das cidades de Encantado, Muçum e Santa Tereza, no período de 01/08/2023 a 31/10/2023.\n",
    "Para o município de Santa Tereza, foram baixados dados de 2 estações: Santa Tereza e Linha José Julio."
   ]
  },
  {
   "cell_type": "code",
   "execution_count": 4,
   "id": "75150e4a-fae2-4aa7-8341-5c94f8e08bed",
   "metadata": {},
   "outputs": [],
   "source": [
    "import pandas as pd\n",
    "import matplotlib.pyplot as plt\n",
    "%matplotlib inline"
   ]
  },
  {
   "cell_type": "code",
   "execution_count": 10,
   "id": "7e3f69e7-7c02-48de-98b8-f2f232c0fcbd",
   "metadata": {},
   "outputs": [],
   "source": [
    "df_Encantado = pd.read_csv('86720000-ENCANTADO.csv', encoding='ISO-8859-1', delimiter=';')\n",
    "df_Mucum = pd.read_csv('86510000-MUCUM.csv', encoding='ISO-8859-1', delimiter=';')\n",
    "df_Sta_Tereza = pd.read_csv('86472600-SANTA TEREZA.csv', encoding='ISO-8859-1', delimiter=';')\n",
    "df_Lin_JJ = pd.read_csv('86472000-LINHA JOSE JULIO.csv', encoding='ISO-8859-1', delimiter=';')"
   ]
  },
  {
   "cell_type": "code",
   "execution_count": 11,
   "id": "196a404f-db6a-4f6c-915f-c0faa34e6135",
   "metadata": {},
   "outputs": [
    {
     "data": {
      "text/html": [
       "<div>\n",
       "<style scoped>\n",
       "    .dataframe tbody tr th:only-of-type {\n",
       "        vertical-align: middle;\n",
       "    }\n",
       "\n",
       "    .dataframe tbody tr th {\n",
       "        vertical-align: top;\n",
       "    }\n",
       "\n",
       "    .dataframe thead th {\n",
       "        text-align: right;\n",
       "    }\n",
       "</style>\n",
       "<table border=\"1\" class=\"dataframe\">\n",
       "  <thead>\n",
       "    <tr style=\"text-align: right;\">\n",
       "      <th></th>\n",
       "      <th>Data</th>\n",
       "      <th>Hora</th>\n",
       "      <th>Chuva (mm)</th>\n",
       "      <th>Nível (cm)</th>\n",
       "      <th>Vazão (m3/s)</th>\n",
       "      <th>Unnamed: 5</th>\n",
       "    </tr>\n",
       "  </thead>\n",
       "  <tbody>\n",
       "    <tr>\n",
       "      <th>0</th>\n",
       "      <td>01/08/2023</td>\n",
       "      <td>02:30:00</td>\n",
       "      <td>0</td>\n",
       "      <td>228</td>\n",
       "      <td>251.8</td>\n",
       "      <td>NaN</td>\n",
       "    </tr>\n",
       "    <tr>\n",
       "      <th>1</th>\n",
       "      <td>01/08/2023</td>\n",
       "      <td>02:45:00</td>\n",
       "      <td>0</td>\n",
       "      <td>228</td>\n",
       "      <td>251.8</td>\n",
       "      <td>NaN</td>\n",
       "    </tr>\n",
       "    <tr>\n",
       "      <th>2</th>\n",
       "      <td>01/08/2023</td>\n",
       "      <td>03:00:00</td>\n",
       "      <td>0</td>\n",
       "      <td>228</td>\n",
       "      <td>251.8</td>\n",
       "      <td>NaN</td>\n",
       "    </tr>\n",
       "    <tr>\n",
       "      <th>3</th>\n",
       "      <td>01/08/2023</td>\n",
       "      <td>03:15:00</td>\n",
       "      <td>0</td>\n",
       "      <td>227</td>\n",
       "      <td>248.1</td>\n",
       "      <td>NaN</td>\n",
       "    </tr>\n",
       "    <tr>\n",
       "      <th>4</th>\n",
       "      <td>01/08/2023</td>\n",
       "      <td>03:30:00</td>\n",
       "      <td>0</td>\n",
       "      <td>227</td>\n",
       "      <td>248.1</td>\n",
       "      <td>NaN</td>\n",
       "    </tr>\n",
       "  </tbody>\n",
       "</table>\n",
       "</div>"
      ],
      "text/plain": [
       "         Data      Hora      Chuva (mm)        Nível (cm) Vazão (m3/s)  \\\n",
       "0  01/08/2023  02:30:00  0               228                     251.8   \n",
       "1  01/08/2023  02:45:00  0               228                     251.8   \n",
       "2  01/08/2023  03:00:00  0               228                     251.8   \n",
       "3  01/08/2023  03:15:00  0               227                     248.1   \n",
       "4  01/08/2023  03:30:00  0               227                     248.1   \n",
       "\n",
       "   Unnamed: 5  \n",
       "0         NaN  \n",
       "1         NaN  \n",
       "2         NaN  \n",
       "3         NaN  \n",
       "4         NaN  "
      ]
     },
     "execution_count": 11,
     "metadata": {},
     "output_type": "execute_result"
    }
   ],
   "source": [
    "df_Encantado.head()"
   ]
  },
  {
   "cell_type": "code",
   "execution_count": 12,
   "id": "b52176c3-56f3-4c92-b43f-7a0bcc29471c",
   "metadata": {},
   "outputs": [
    {
     "name": "stdout",
     "output_type": "stream",
     "text": [
      "<class 'pandas.core.frame.DataFrame'>\n",
      "RangeIndex: 6071 entries, 0 to 6070\n",
      "Data columns (total 6 columns):\n",
      " #   Column        Non-Null Count  Dtype  \n",
      "---  ------        --------------  -----  \n",
      " 0   Data          6071 non-null   object \n",
      " 1   Hora          6071 non-null   object \n",
      " 2   Chuva (mm)    6071 non-null   object \n",
      " 3   Nível (cm)    6071 non-null   object \n",
      " 4   Vazão (m3/s)  3709 non-null   object \n",
      " 5   Unnamed: 5    0 non-null      float64\n",
      "dtypes: float64(1), object(5)\n",
      "memory usage: 284.7+ KB\n"
     ]
    }
   ],
   "source": [
    "df_Encantado.info()"
   ]
  },
  {
   "cell_type": "code",
   "execution_count": 15,
   "id": "86c57f8f-1034-431f-b5b8-2191f259d729",
   "metadata": {},
   "outputs": [
    {
     "data": {
      "text/html": [
       "<div>\n",
       "<style scoped>\n",
       "    .dataframe tbody tr th:only-of-type {\n",
       "        vertical-align: middle;\n",
       "    }\n",
       "\n",
       "    .dataframe tbody tr th {\n",
       "        vertical-align: top;\n",
       "    }\n",
       "\n",
       "    .dataframe thead th {\n",
       "        text-align: right;\n",
       "    }\n",
       "</style>\n",
       "<table border=\"1\" class=\"dataframe\">\n",
       "  <thead>\n",
       "    <tr style=\"text-align: right;\">\n",
       "      <th></th>\n",
       "      <th>Data</th>\n",
       "      <th>Hora</th>\n",
       "      <th>Chuva (mm)</th>\n",
       "      <th>Nível (cm)</th>\n",
       "      <th>Vazão (m3/s)</th>\n",
       "      <th>Unnamed: 5</th>\n",
       "    </tr>\n",
       "  </thead>\n",
       "  <tbody>\n",
       "    <tr>\n",
       "      <th>0</th>\n",
       "      <td>01/08/2023</td>\n",
       "      <td>00:00:00</td>\n",
       "      <td>0</td>\n",
       "      <td>208</td>\n",
       "      <td>219.1</td>\n",
       "      <td>NaN</td>\n",
       "    </tr>\n",
       "    <tr>\n",
       "      <th>1</th>\n",
       "      <td>01/08/2023</td>\n",
       "      <td>00:15:00</td>\n",
       "      <td>0</td>\n",
       "      <td>208</td>\n",
       "      <td>219.1</td>\n",
       "      <td>NaN</td>\n",
       "    </tr>\n",
       "    <tr>\n",
       "      <th>2</th>\n",
       "      <td>01/08/2023</td>\n",
       "      <td>00:30:00</td>\n",
       "      <td>0</td>\n",
       "      <td>208</td>\n",
       "      <td>219.1</td>\n",
       "      <td>NaN</td>\n",
       "    </tr>\n",
       "    <tr>\n",
       "      <th>3</th>\n",
       "      <td>01/08/2023</td>\n",
       "      <td>00:45:00</td>\n",
       "      <td>0</td>\n",
       "      <td>207</td>\n",
       "      <td>216.9</td>\n",
       "      <td>NaN</td>\n",
       "    </tr>\n",
       "    <tr>\n",
       "      <th>4</th>\n",
       "      <td>01/08/2023</td>\n",
       "      <td>01:00:00</td>\n",
       "      <td>0</td>\n",
       "      <td>207</td>\n",
       "      <td>216.9</td>\n",
       "      <td>NaN</td>\n",
       "    </tr>\n",
       "  </tbody>\n",
       "</table>\n",
       "</div>"
      ],
      "text/plain": [
       "         Data      Hora      Chuva (mm)        Nível (cm) Vazão (m3/s)  \\\n",
       "0  01/08/2023  00:00:00  0               208                     219.1   \n",
       "1  01/08/2023  00:15:00  0               208                     219.1   \n",
       "2  01/08/2023  00:30:00  0               208                     219.1   \n",
       "3  01/08/2023  00:45:00  0               207                     216.9   \n",
       "4  01/08/2023  01:00:00  0               207                     216.9   \n",
       "\n",
       "   Unnamed: 5  \n",
       "0         NaN  \n",
       "1         NaN  \n",
       "2         NaN  \n",
       "3         NaN  \n",
       "4         NaN  "
      ]
     },
     "execution_count": 15,
     "metadata": {},
     "output_type": "execute_result"
    }
   ],
   "source": [
    "df_Mucum.head()"
   ]
  },
  {
   "cell_type": "code",
   "execution_count": 16,
   "id": "861e1178-ded8-4ca6-8066-f5c10d5ca6ea",
   "metadata": {},
   "outputs": [
    {
     "name": "stdout",
     "output_type": "stream",
     "text": [
      "<class 'pandas.core.frame.DataFrame'>\n",
      "RangeIndex: 8049 entries, 0 to 8048\n",
      "Data columns (total 6 columns):\n",
      " #   Column        Non-Null Count  Dtype  \n",
      "---  ------        --------------  -----  \n",
      " 0   Data          8049 non-null   object \n",
      " 1   Hora          8049 non-null   object \n",
      " 2   Chuva (mm)    8049 non-null   object \n",
      " 3   Nível (cm)    8049 non-null   object \n",
      " 4   Vazão (m3/s)  7701 non-null   object \n",
      " 5   Unnamed: 5    0 non-null      float64\n",
      "dtypes: float64(1), object(5)\n",
      "memory usage: 377.4+ KB\n"
     ]
    }
   ],
   "source": [
    "df_Mucum.info()"
   ]
  },
  {
   "cell_type": "code",
   "execution_count": null,
   "id": "1db7a9aa-1459-48ed-832d-623a01d93103",
   "metadata": {},
   "outputs": [],
   "source": []
  }
 ],
 "metadata": {
  "kernelspec": {
   "display_name": "Python 3 (ipykernel)",
   "language": "python",
   "name": "python3"
  },
  "language_info": {
   "codemirror_mode": {
    "name": "ipython",
    "version": 3
   },
   "file_extension": ".py",
   "mimetype": "text/x-python",
   "name": "python",
   "nbconvert_exporter": "python",
   "pygments_lexer": "ipython3",
   "version": "3.12.4"
  }
 },
 "nbformat": 4,
 "nbformat_minor": 5
}
